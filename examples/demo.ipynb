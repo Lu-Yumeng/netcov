{
 "cells": [
  {
   "cell_type": "markdown",
   "metadata": {},
   "source": [
    "## Getting started with NetCov\n",
    "\n",
    "NetCov is tool that can be used with [Batfish](https://github.com/batfish/batfish) to analyze test coverage for network configurations. Given a set of Batfish queries, it analyzes which lines of configurations have/have not been covered. The result can be used to:\n",
    "- Evaluate the rigorousness of network testing\n",
    "- Help identify the blind spots of network testing\n",
    "\n",
    "NetCov is written in Python and can be used in concert with [pybatfish](https://pybatfish.readthedocs.io/en/latest/notebooks/interacting.html), Batfish's Python client API."
   ]
  },
  {
   "cell_type": "markdown",
   "metadata": {
    "jp-MarkdownHeadingCollapsed": true,
    "tags": []
   },
   "source": [
    "#### To install NetCov:\n",
    "`\n",
    "pip install netcov\n",
    "`\n",
    "A virtual environment and Python version 3.7 is recommended.\n",
    "\n",
    "NetCov leverages LCOV to produce HTML-format coverage report. LCOV can be installed via `brew install lcov` (MacOS) or `sudo apt install lcov` (Ubantu)."
   ]
  },
  {
   "cell_type": "markdown",
   "metadata": {
    "tags": []
   },
   "source": [
    "#### Step 1: Import\n",
    "NetCov encapsulates coverage tracking into a set of hooked pybatfish APIs. To start with, import as the following.\n",
    "For an existing pybatfish script, replace `from pybatfish.client.session import Session` with the following:"
   ]
  },
  {
   "cell_type": "code",
   "execution_count": 1,
   "outputs": [],
   "source": [
    "import numpy"
   ],
   "metadata": {
    "collapsed": false,
    "pycharm": {
     "name": "#%%\n"
    }
   }
  },
  {
   "cell_type": "code",
   "execution_count": 2,
   "metadata": {},
   "outputs": [],
   "source": [
    "from netcov import NetCovSession as Session"
   ]
  },
  {
   "cell_type": "markdown",
   "metadata": {
    "tags": []
   },
   "source": [
    "#### Step 2: Interact with Batfish service as normal"
   ]
  },
  {
   "cell_type": "markdown",
   "metadata": {},
   "source": [
    "To proceed, please ensure that your Batfish service is running on localhost."
   ]
  },
  {
   "cell_type": "code",
   "execution_count": 4,
   "metadata": {},
   "outputs": [
    {
     "ename": "AttributeError",
     "evalue": "'NetCovSession' object has no attribute 'network'",
     "output_type": "error",
     "traceback": [
      "\u001B[0;31m---------------------------------------------------------------------------\u001B[0m",
      "\u001B[0;31mAttributeError\u001B[0m                            Traceback (most recent call last)",
      "Cell \u001B[0;32mIn [4], line 2\u001B[0m\n\u001B[1;32m      1\u001B[0m bf \u001B[38;5;241m=\u001B[39m Session(host\u001B[38;5;241m=\u001B[39m\u001B[38;5;124m\"\u001B[39m\u001B[38;5;124mlocalhost\u001B[39m\u001B[38;5;124m\"\u001B[39m)\n\u001B[0;32m----> 2\u001B[0m \u001B[43mbf\u001B[49m\u001B[38;5;241;43m.\u001B[39;49m\u001B[43minit_snapshot\u001B[49m\u001B[43m(\u001B[49m\u001B[38;5;124;43m\"\u001B[39;49m\u001B[38;5;124;43mfattree4\u001B[39;49m\u001B[38;5;124;43m\"\u001B[39;49m\u001B[43m,\u001B[49m\u001B[43m \u001B[49m\u001B[43moverwrite\u001B[49m\u001B[38;5;241;43m=\u001B[39;49m\u001B[38;5;28;43;01mTrue\u001B[39;49;00m\u001B[43m)\u001B[49m;\n",
      "File \u001B[0;32m~/NYUSH /2022 Fall/CAPS/netcov/netcov/hook.py:47\u001B[0m, in \u001B[0;36mNetCovSession.init_snapshot\u001B[0;34m(self, upload, name, overwrite, extra_args, enable_cov, static_analysis, prebuilt_model)\u001B[0m\n\u001B[1;32m     46\u001B[0m \u001B[38;5;28;01mdef\u001B[39;00m \u001B[38;5;21minit_snapshot\u001B[39m(\u001B[38;5;28mself\u001B[39m, upload, name\u001B[38;5;241m=\u001B[39m\u001B[38;5;28;01mNone\u001B[39;00m, overwrite\u001B[38;5;241m=\u001B[39m\u001B[38;5;28;01mFalse\u001B[39;00m, extra_args\u001B[38;5;241m=\u001B[39m\u001B[38;5;28;01mNone\u001B[39;00m, enable_cov\u001B[38;5;241m=\u001B[39m\u001B[38;5;28;01mTrue\u001B[39;00m, static_analysis\u001B[38;5;241m=\u001B[39m\u001B[38;5;28;01mFalse\u001B[39;00m, prebuilt_model\u001B[38;5;241m=\u001B[39m\u001B[38;5;28;01mNone\u001B[39;00m):\n\u001B[0;32m---> 47\u001B[0m     ss_name \u001B[38;5;241m=\u001B[39m \u001B[38;5;28;43msuper\u001B[39;49m\u001B[43m(\u001B[49m\u001B[43m)\u001B[49m\u001B[38;5;241;43m.\u001B[39;49m\u001B[43minit_snapshot\u001B[49m\u001B[43m(\u001B[49m\u001B[43mupload\u001B[49m\u001B[43m,\u001B[49m\u001B[43m \u001B[49m\u001B[43mname\u001B[49m\u001B[43m,\u001B[49m\u001B[43m \u001B[49m\u001B[43moverwrite\u001B[49m\u001B[43m,\u001B[49m\u001B[43m \u001B[49m\u001B[43mextra_args\u001B[49m\u001B[43m)\u001B[49m\n\u001B[1;32m     49\u001B[0m     \u001B[38;5;28;01mif\u001B[39;00m enable_cov:\n\u001B[1;32m     50\u001B[0m         \u001B[38;5;28mself\u001B[39m\u001B[38;5;241m.\u001B[39mcov \u001B[38;5;241m=\u001B[39m Coverage(\u001B[38;5;28mself\u001B[39m, upload, static_analysis, prebuilt_model)\n",
      "File \u001B[0;32m~/NYUSH /2022 Fall/CAPS/netcov/venv/lib/python3.8/site-packages/pybatfish/client/session.py:852\u001B[0m, in \u001B[0;36mSession.init_snapshot\u001B[0;34m(self, upload, name, overwrite, extra_args)\u001B[0m\n\u001B[1;32m    832\u001B[0m \u001B[38;5;28;01mdef\u001B[39;00m \u001B[38;5;21minit_snapshot\u001B[39m(\u001B[38;5;28mself\u001B[39m, upload, name\u001B[38;5;241m=\u001B[39m\u001B[38;5;28;01mNone\u001B[39;00m, overwrite\u001B[38;5;241m=\u001B[39m\u001B[38;5;28;01mFalse\u001B[39;00m, extra_args\u001B[38;5;241m=\u001B[39m\u001B[38;5;28;01mNone\u001B[39;00m):\n\u001B[1;32m    833\u001B[0m     \u001B[38;5;66;03m# type: (str, Optional[str], bool, Optional[Dict[str, Any]]) -> str\u001B[39;00m\n\u001B[1;32m    834\u001B[0m     \u001B[38;5;124;03m\"\"\"\u001B[39;00m\n\u001B[1;32m    835\u001B[0m \u001B[38;5;124;03m    Initialize a new snapshot.\u001B[39;00m\n\u001B[1;32m    836\u001B[0m \n\u001B[0;32m   (...)\u001B[0m\n\u001B[1;32m    850\u001B[0m \u001B[38;5;124;03m    :rtype: str\u001B[39;00m\n\u001B[1;32m    851\u001B[0m \u001B[38;5;124;03m    \"\"\"\u001B[39;00m\n\u001B[0;32m--> 852\u001B[0m     ss_name \u001B[38;5;241m=\u001B[39m \u001B[38;5;28;43mself\u001B[39;49m\u001B[38;5;241;43m.\u001B[39;49m\u001B[43m_init_snapshot\u001B[49m\u001B[43m(\u001B[49m\n\u001B[1;32m    853\u001B[0m \u001B[43m        \u001B[49m\u001B[43mupload\u001B[49m\u001B[43m,\u001B[49m\u001B[43m \u001B[49m\u001B[43mname\u001B[49m\u001B[38;5;241;43m=\u001B[39;49m\u001B[43mname\u001B[49m\u001B[43m,\u001B[49m\u001B[43m \u001B[49m\u001B[43moverwrite\u001B[49m\u001B[38;5;241;43m=\u001B[39;49m\u001B[43moverwrite\u001B[49m\u001B[43m,\u001B[49m\u001B[43m \u001B[49m\u001B[43mextra_args\u001B[49m\u001B[38;5;241;43m=\u001B[39;49m\u001B[43mextra_args\u001B[49m\n\u001B[1;32m    854\u001B[0m \u001B[43m    \u001B[49m\u001B[43m)\u001B[49m\n\u001B[1;32m    855\u001B[0m     \u001B[38;5;28;01massert\u001B[39;00m \u001B[38;5;28misinstance\u001B[39m(ss_name, \u001B[38;5;28mstr\u001B[39m)  \u001B[38;5;66;03m# Guaranteed since background=False\u001B[39;00m\n\u001B[1;32m    856\u001B[0m     \u001B[38;5;28;01mreturn\u001B[39;00m ss_name\n",
      "File \u001B[0;32m~/NYUSH /2022 Fall/CAPS/netcov/venv/lib/python3.8/site-packages/pybatfish/client/session.py:960\u001B[0m, in \u001B[0;36mSession._init_snapshot\u001B[0;34m(self, upload, name, overwrite, background, extra_args)\u001B[0m\n\u001B[1;32m    956\u001B[0m \u001B[38;5;28;01mdef\u001B[39;00m \u001B[38;5;21m_init_snapshot\u001B[39m(\n\u001B[1;32m    957\u001B[0m     \u001B[38;5;28mself\u001B[39m, upload, name\u001B[38;5;241m=\u001B[39m\u001B[38;5;28;01mNone\u001B[39;00m, overwrite\u001B[38;5;241m=\u001B[39m\u001B[38;5;28;01mFalse\u001B[39;00m, background\u001B[38;5;241m=\u001B[39m\u001B[38;5;28;01mFalse\u001B[39;00m, extra_args\u001B[38;5;241m=\u001B[39m\u001B[38;5;28;01mNone\u001B[39;00m\n\u001B[1;32m    958\u001B[0m ):\n\u001B[1;32m    959\u001B[0m     \u001B[38;5;66;03m# type: (Union[str, IO], Optional[str], bool, bool, Optional[Dict[str, Any]]) -> Union[str, Dict[str, str]]\u001B[39;00m\n\u001B[0;32m--> 960\u001B[0m     \u001B[38;5;28;01mif\u001B[39;00m \u001B[38;5;28;43mself\u001B[39;49m\u001B[38;5;241;43m.\u001B[39;49m\u001B[43mnetwork\u001B[49m \u001B[38;5;129;01mis\u001B[39;00m \u001B[38;5;28;01mNone\u001B[39;00m:\n\u001B[1;32m    961\u001B[0m         \u001B[38;5;28mself\u001B[39m\u001B[38;5;241m.\u001B[39mset_network()\n\u001B[1;32m    963\u001B[0m     \u001B[38;5;28;01mif\u001B[39;00m name \u001B[38;5;129;01mis\u001B[39;00m \u001B[38;5;28;01mNone\u001B[39;00m:\n",
      "\u001B[0;31mAttributeError\u001B[0m: 'NetCovSession' object has no attribute 'network'"
     ]
    }
   ],
   "source": [
    "bf = Session(host=\"localhost\")\n",
    "bf.init_snapshot(\"fattree4\", overwrite=True);"
   ]
  },
  {
   "cell_type": "markdown",
   "metadata": {
    "tags": []
   },
   "source": [
    "#### Step 3: Network testing using Batfish queries as normal\n",
    "NetCov automatically tracks coverage for supported types of queries, such as `bf.q.routes()` and `bf.q.traceroute()`."
   ]
  },
  {
   "cell_type": "code",
   "execution_count": 12,
   "metadata": {},
   "outputs": [],
   "source": [
    "def test_default_route_presence():\n",
    "    \"\"\"Check that all routers have the default route.\"\"\"\n",
    "    fattree_nodes = bf.q.nodeProperties(nodes=\"/edge|aggr|core/\").answer().frame()['Node'].to_list()\n",
    "    for node in fattree_nodes:\n",
    "        r = bf.q.routes(nodes=node, network=\"0.0.0.0/0\").answer().frame()\n",
    "        assert len(r.index) > 0\n",
    "        \n",
    "test_default_route_presence()"
   ]
  },
  {
   "cell_type": "code",
   "execution_count": 13,
   "metadata": {},
   "outputs": [],
   "source": [
    "from pybatfish.datamodel import HeaderConstraints\n",
    "def test_pingmesh():\n",
    "    \"\"\"Check that all pairs of leaf routers can reach each other.\"\"\"\n",
    "    leaf_nodes = bf.q.nodeProperties(nodes=\"/edge/\").answer().frame()['Node'].to_list()\n",
    "    for src in leaf_nodes:\n",
    "        for dst in leaf_nodes:\n",
    "            tr = bf.q.traceroute(\n",
    "                startLocation=src, \n",
    "                headers=HeaderConstraints(\n",
    "                    srcIps=f\"{src}[Loopback0]\",\n",
    "                    dstIps=f\"{dst}[Loopback0]\"), \n",
    "                maxTraces=1\n",
    "            ).answer().frame()\n",
    "            assert tr.Traces[0][0][-1].node == dst\n",
    "            assert tr.Traces[0][0][-1][-1].action == 'ACCEPTED'\n",
    "            assert tr.Traces[0][0][-1][-1].detail.interface == 'Loopback0'    \n",
    "\n",
    "test_pingmesh()"
   ]
  },
  {
   "cell_type": "markdown",
   "metadata": {
    "tags": []
   },
   "source": [
    "#### Step 4: Coverage results"
   ]
  },
  {
   "cell_type": "markdown",
   "metadata": {},
   "source": [
    "To print coverage metrics into the console:"
   ]
  },
  {
   "cell_type": "code",
   "execution_count": 14,
   "metadata": {},
   "outputs": [
    {
     "name": "stderr",
     "output_type": "stream",
     "text": [
      "Configuration coverage:\n",
      "    Covered lines:                         640/784 (81.63%)\n",
      "Breakdown:\n",
      "    bgp neighbor:                          136/136 (100.00%)\n",
      "    interface:                             492/636 (77.36%)\n",
      "    route-map-clause:                      8/8 (100.00%)\n",
      "    route-map:                             0/0 (0.00%)\n",
      "    ipv4 prefix-list:                      4/4 (100.00%)\n"
     ]
    }
   ],
   "source": [
    "bf.cov.result()"
   ]
  },
  {
   "cell_type": "markdown",
   "metadata": {},
   "source": [
    "To view line-level coverage result as annotations on source configurations, use the command below and check out the generated HTML report under `SNAPSHOT_PATH/coverage` directory:"
   ]
  },
  {
   "cell_type": "code",
   "execution_count": 6,
   "metadata": {},
   "outputs": [],
   "source": [
    "bf.cov.html_report()"
   ]
  }
 ],
 "metadata": {
  "kernelspec": {
   "display_name": "Python 3.7.6 ('netv')",
   "language": "python",
   "name": "python3"
  },
  "language_info": {
   "codemirror_mode": {
    "name": "ipython",
    "version": 3
   },
   "file_extension": ".py",
   "mimetype": "text/x-python",
   "name": "python",
   "nbconvert_exporter": "python",
   "pygments_lexer": "ipython3",
   "version": "3.7.6"
  },
  "vscode": {
   "interpreter": {
    "hash": "496a6b277aaecbd86c82f400c46305229fc297a6aa444430990ab0bebe2cba04"
   }
  }
 },
 "nbformat": 4,
 "nbformat_minor": 5
}
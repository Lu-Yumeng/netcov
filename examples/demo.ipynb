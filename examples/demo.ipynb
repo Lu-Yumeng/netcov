{
 "cells": [
  {
   "cell_type": "markdown",
   "metadata": {},
   "source": [
    "## Getting started with NetCov\n",
    "\n",
    "NetCov is tool that can be used with [Batfish](https://github.com/batfish/batfish) to analyze test coverage for network configurations. Given a set of Batfish queries, it analyzes which lines of configurations have/have not been covered. The result can be used to:\n",
    "- Evaluate the rigorousness of network testing\n",
    "- Help identify the blind spots of network testing\n",
    "\n",
    "NetCov is written in Python and can be used in concert with [pybatfish](https://pybatfish.readthedocs.io/en/latest/notebooks/interacting.html), Batfish's Python client API."
   ]
  },
  {
   "cell_type": "markdown",
   "metadata": {
    "jp-MarkdownHeadingCollapsed": true,
    "tags": []
   },
   "source": [
    "#### To install NetCov:\n",
    "`\n",
    "pip install netcov\n",
    "`\n",
    "A virtual environment and Python version 3.7 is recommended.\n",
    "\n",
    "NetCov leverages LCOV to produce HTML-format coverage report. LCOV can be installed via `brew install lcov` (MacOS) or `sudo apt install lcov` (Ubantu)."
   ]
  },
  {
   "cell_type": "markdown",
   "metadata": {
    "tags": []
   },
   "source": [
    "#### Step 1: Import\n",
    "NetCov encapsulates coverage tracking into a set of hooked pybatfish APIs. To start with, import as the following.\n",
    "For an existing pybatfish script, replace `from pybatfish.client.session import Session` with the following:"
   ]
  },
  {
   "cell_type": "code",
   "execution_count": 10,
   "outputs": [],
   "source": [
    "import numpy"
   ],
   "metadata": {
    "collapsed": false,
    "pycharm": {
     "name": "#%%\n"
    }
   }
  },
  {
   "cell_type": "code",
   "execution_count": 11,
   "metadata": {},
   "outputs": [
    {
     "ename": "ModuleNotFoundError",
     "evalue": "No module named 'pybatfish'",
     "output_type": "error",
     "traceback": [
      "\u001B[0;31m---------------------------------------------------------------------------\u001B[0m",
      "\u001B[0;31mModuleNotFoundError\u001B[0m                       Traceback (most recent call last)",
      "Cell \u001B[0;32mIn [11], line 1\u001B[0m\n\u001B[0;32m----> 1\u001B[0m \u001B[38;5;28;01mfrom\u001B[39;00m \u001B[38;5;21;01mnetcov\u001B[39;00m \u001B[38;5;28;01mimport\u001B[39;00m NetCovSession \u001B[38;5;28;01mas\u001B[39;00m Session\n",
      "File \u001B[0;32m~/NYUSH /2022 Fall/CAPS/netcov/netcov/__init__.py:14\u001B[0m\n\u001B[1;32m      1\u001B[0m \u001B[38;5;66;03m#   Copyright 2022 Xieyang Xu\u001B[39;00m\n\u001B[1;32m      2\u001B[0m \u001B[38;5;66;03m#\u001B[39;00m\n\u001B[1;32m      3\u001B[0m \u001B[38;5;66;03m#   Licensed under the Apache License, Version 2.0 (the \"License\");\u001B[39;00m\n\u001B[0;32m   (...)\u001B[0m\n\u001B[1;32m     12\u001B[0m \u001B[38;5;66;03m#   See the License for the specific language governing permissions and\u001B[39;00m\n\u001B[1;32m     13\u001B[0m \u001B[38;5;66;03m#   limitations under the License.\u001B[39;00m\n\u001B[0;32m---> 14\u001B[0m \u001B[38;5;28;01mfrom\u001B[39;00m \u001B[38;5;21;01m.\u001B[39;00m\u001B[38;5;21;01mhook\u001B[39;00m \u001B[38;5;28;01mimport\u001B[39;00m NetCovSession\n\u001B[1;32m     15\u001B[0m \u001B[38;5;28;01mfrom\u001B[39;00m \u001B[38;5;21;01m.\u001B[39;00m\u001B[38;5;21;01mvisual\u001B[39;00m \u001B[38;5;28;01mimport\u001B[39;00m \u001B[38;5;241m*\u001B[39m\n\u001B[1;32m     16\u001B[0m \u001B[38;5;28;01mfrom\u001B[39;00m \u001B[38;5;21;01m.\u001B[39;00m\u001B[38;5;21;01malgorithm\u001B[39;00m\u001B[38;5;21;01m.\u001B[39;00m\u001B[38;5;21;01mcoverage\u001B[39;00m \u001B[38;5;28;01mimport\u001B[39;00m \u001B[38;5;241m*\u001B[39m\n",
      "File \u001B[0;32m~/NYUSH /2022 Fall/CAPS/netcov/netcov/hook.py:15\u001B[0m\n\u001B[1;32m      1\u001B[0m \u001B[38;5;66;03m#   Copyright 2022 Xieyang Xu\u001B[39;00m\n\u001B[1;32m      2\u001B[0m \u001B[38;5;66;03m#\u001B[39;00m\n\u001B[1;32m      3\u001B[0m \u001B[38;5;66;03m#   Licensed under the Apache License, Version 2.0 (the \"License\");\u001B[39;00m\n\u001B[0;32m   (...)\u001B[0m\n\u001B[1;32m     12\u001B[0m \u001B[38;5;66;03m#   See the License for the specific language governing permissions and\u001B[39;00m\n\u001B[1;32m     13\u001B[0m \u001B[38;5;66;03m#   limitations under the License.\u001B[39;00m\n\u001B[1;32m     14\u001B[0m \u001B[38;5;28;01mfrom\u001B[39;00m \u001B[38;5;21;01mtyping\u001B[39;00m \u001B[38;5;28;01mimport\u001B[39;00m Optional\n\u001B[0;32m---> 15\u001B[0m \u001B[38;5;28;01mfrom\u001B[39;00m \u001B[38;5;21;01mpybatfish\u001B[39;00m\u001B[38;5;21;01m.\u001B[39;00m\u001B[38;5;21;01mclient\u001B[39;00m\u001B[38;5;21;01m.\u001B[39;00m\u001B[38;5;21;01msession\u001B[39;00m \u001B[38;5;28;01mimport\u001B[39;00m Session\n\u001B[1;32m     16\u001B[0m \u001B[38;5;28;01mfrom\u001B[39;00m \u001B[38;5;21;01mpybatfish\u001B[39;00m\u001B[38;5;21;01m.\u001B[39;00m\u001B[38;5;21;01mclient\u001B[39;00m\u001B[38;5;21;01m.\u001B[39;00m\u001B[38;5;21;01moptions\u001B[39;00m \u001B[38;5;28;01mimport\u001B[39;00m Options\n\u001B[1;32m     17\u001B[0m \u001B[38;5;28;01mfrom\u001B[39;00m \u001B[38;5;21;01mpybatfish\u001B[39;00m\u001B[38;5;21;01m.\u001B[39;00m\u001B[38;5;21;01mclient\u001B[39;00m\u001B[38;5;21;01m.\u001B[39;00m\u001B[38;5;21;01mconsts\u001B[39;00m \u001B[38;5;28;01mimport\u001B[39;00m CoordConsts\n",
      "\u001B[0;31mModuleNotFoundError\u001B[0m: No module named 'pybatfish'"
     ]
    }
   ],
   "source": [
    "from netcov import NetCovSession as Session"
   ]
  },
  {
   "cell_type": "markdown",
   "metadata": {
    "tags": []
   },
   "source": [
    "#### Step 2: Interact with Batfish service as normal"
   ]
  },
  {
   "cell_type": "markdown",
   "metadata": {},
   "source": [
    "To proceed, please ensure that your Batfish service is running on localhost."
   ]
  },
  {
   "cell_type": "code",
   "execution_count": 15,
   "metadata": {},
   "outputs": [],
   "source": [
    "bf = Session(host=\"localhost\")\n",
    "bf.init_snapshot(\"fattree4\", overwrite=True);"
   ]
  },
  {
   "cell_type": "markdown",
   "metadata": {
    "tags": []
   },
   "source": [
    "#### Step 3: Network testing using Batfish queries as normal\n",
    "NetCov automatically tracks coverage for supported types of queries, such as `bf.q.routes()` and `bf.q.traceroute()`."
   ]
  },
  {
   "cell_type": "code",
   "execution_count": 16,
   "metadata": {},
   "outputs": [],
   "source": [
    "def test_default_route_presence():\n",
    "    \"\"\"Check that all routers have the default route.\"\"\"\n",
    "    fattree_nodes = bf.q.nodeProperties(nodes=\"/edge|aggr|core/\").answer().frame()['Node'].to_list()\n",
    "    for node in fattree_nodes:\n",
    "        r = bf.q.routes(nodes=node, network=\"0.0.0.0/0\").answer().frame()\n",
    "        assert len(r.index) > 0\n",
    "        \n",
    "test_default_route_presence()"
   ]
  },
  {
   "cell_type": "code",
   "execution_count": 17,
   "metadata": {},
   "outputs": [],
   "source": [
    "from pybatfish.datamodel import HeaderConstraints\n",
    "def test_pingmesh():\n",
    "    \"\"\"Check that all pairs of leaf routers can reach each other.\"\"\"\n",
    "    leaf_nodes = bf.q.nodeProperties(nodes=\"/edge/\").answer().frame()['Node'].to_list()\n",
    "    for src in leaf_nodes:\n",
    "        for dst in leaf_nodes:\n",
    "            tr = bf.q.traceroute(\n",
    "                startLocation=src, \n",
    "                headers=HeaderConstraints(\n",
    "                    srcIps=f\"{src}[Loopback0]\",\n",
    "                    dstIps=f\"{dst}[Loopback0]\"), \n",
    "                maxTraces=1\n",
    "            ).answer().frame()\n",
    "            assert tr.Traces[0][0][-1].node == dst\n",
    "            assert tr.Traces[0][0][-1][-1].action == 'ACCEPTED'\n",
    "            assert tr.Traces[0][0][-1][-1].detail.interface == 'Loopback0'    \n",
    "\n",
    "test_pingmesh()"
   ]
  },
  {
   "cell_type": "markdown",
   "metadata": {
    "tags": []
   },
   "source": [
    "#### Step 4: Coverage results"
   ]
  },
  {
   "cell_type": "markdown",
   "metadata": {},
   "source": [
    "To print coverage metrics into the console:"
   ]
  },
  {
   "cell_type": "code",
   "execution_count": 18,
   "metadata": {},
   "outputs": [
    {
     "name": "stderr",
     "output_type": "stream",
     "text": [
      "Configuration coverage:\n",
      "    Covered lines:                         640/784 (81.63%)\n",
      "Breakdown:\n",
      "    bgp neighbor:                          136/136 (100.00%)\n",
      "    interface:                             492/636 (77.36%)\n",
      "    route-map-clause:                      8/8 (100.00%)\n",
      "    route-map:                             0/0 (0.00%)\n",
      "    ipv4 prefix-list:                      4/4 (100.00%)\n"
     ]
    }
   ],
   "source": [
    "bf.cov.result()"
   ]
  },
  {
   "cell_type": "markdown",
   "metadata": {},
   "source": [
    "To view line-level coverage result as annotations on source configurations, use the command below and check out the generated HTML report under `SNAPSHOT_PATH/coverage` directory:"
   ]
  },
  {
   "cell_type": "code",
   "execution_count": 12,
   "metadata": {},
   "outputs": [
    {
     "name": "stderr",
     "output_type": "stream",
     "text": [
      "Writing coverage report to fattree4/coverage/HTML_REPORT\n"
     ]
    }
   ],
   "source": [
    "bf.cov.html_report()"
   ]
  },
  {
   "cell_type": "code",
   "execution_count": 12,
   "outputs": [],
   "source": [],
   "metadata": {
    "collapsed": false,
    "pycharm": {
     "name": "#%%\n"
    }
   }
  }
 ],
 "metadata": {
  "kernelspec": {
   "display_name": "Python 3.7.6 ('netv')",
   "language": "python",
   "name": "python3"
  },
  "language_info": {
   "codemirror_mode": {
    "name": "ipython",
    "version": 3
   },
   "file_extension": ".py",
   "mimetype": "text/x-python",
   "name": "python",
   "nbconvert_exporter": "python",
   "pygments_lexer": "ipython3",
   "version": "3.7.6"
  },
  "vscode": {
   "interpreter": {
    "hash": "496a6b277aaecbd86c82f400c46305229fc297a6aa444430990ab0bebe2cba04"
   }
  }
 },
 "nbformat": 4,
 "nbformat_minor": 5
}